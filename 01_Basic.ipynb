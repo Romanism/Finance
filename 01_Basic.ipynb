{
 "cells": [
  {
   "cell_type": "markdown",
   "metadata": {},
   "source": [
    "# Python\n",
    "\n",
    "- 데이터 타입\n",
    "    - 숫자\n",
    "    - 변수\n",
    "    - 문자열\n",
    "    - 출력\n",
    "    - 리스트 (List)\n",
    "    - 딕셔너리 (Dictionary)\n",
    "    - 논리 (Boolean)\n",
    "    - 튜플 (Tuple)\n",
    "    - 집합 (Sets)\n",
    "- 비교 연산자\n",
    "- 논리 연산자\n",
    "- if, elif, else 문\n",
    "- 반복문 for / while\n",
    "- range()\n",
    "- List 사용\n",
    "- 함수 (Function)\n",
    "- 메소드 (method)\n",
    "- 클래스 (class)"
   ]
  },
  {
   "cell_type": "markdown",
   "metadata": {},
   "source": [
    "---"
   ]
  },
  {
   "cell_type": "markdown",
   "metadata": {},
   "source": [
    "### 1. 데이터 타입"
   ]
  },
  {
   "cell_type": "markdown",
   "metadata": {},
   "source": [
    "#### 1.1 숫자"
   ]
  },
  {
   "cell_type": "code",
   "execution_count": 1,
   "metadata": {},
   "outputs": [
    {
     "name": "stdout",
     "output_type": "stream",
     "text": [
      "2\n",
      "3\n",
      "0.5\n",
      "16\n",
      "0\n",
      "50\n"
     ]
    }
   ],
   "source": [
    "print(1+1) # 덧셈\n",
    "print(1*3) # 곱셈\n",
    "print(1/2) # 나눗셈\n",
    "print(2**4) # 제곱\n",
    "print(4%2) # 나머지\n",
    "print((2+3) * (5+5)) # 사칙연산"
   ]
  },
  {
   "cell_type": "markdown",
   "metadata": {},
   "source": [
    "#### 1.2 변수 - 컴퓨터가 기억하도록하는 기억 단위"
   ]
  },
  {
   "cell_type": "code",
   "execution_count": 2,
   "metadata": {},
   "outputs": [
    {
     "data": {
      "text/plain": [
       "5"
      ]
     },
     "execution_count": 2,
     "metadata": {},
     "output_type": "execute_result"
    }
   ],
   "source": [
    "x = 2 # 오른쪽의 숫자를 왼쪽의 변수에 집어넣는다\n",
    "y = 3\n",
    "z = x + y\n",
    "z"
   ]
  },
  {
   "cell_type": "markdown",
   "metadata": {},
   "source": [
    "#### 1.3 문자열"
   ]
  },
  {
   "cell_type": "code",
   "execution_count": 3,
   "metadata": {},
   "outputs": [
    {
     "name": "stdout",
     "output_type": "stream",
     "text": [
      "Single quotes\n",
      "double quotes\n",
      "wrap lot's of other quotes\n"
     ]
    }
   ],
   "source": [
    "print('Single quotes')\n",
    "print(\"double quotes\")\n",
    "print(\"wrap lot's of other quotes\") # 중간에 있는 '를 문자로 표시"
   ]
  },
  {
   "cell_type": "markdown",
   "metadata": {},
   "source": [
    "#### 1.4 출력"
   ]
  },
  {
   "cell_type": "code",
   "execution_count": 4,
   "metadata": {},
   "outputs": [
    {
     "name": "stdout",
     "output_type": "stream",
     "text": [
      "숫자는 : 12, 이름은 : 홍길동\n",
      "숫자는 : 12, 이름은 : 홍길동\n"
     ]
    }
   ],
   "source": [
    "num = 12\n",
    "name = '홍길동'\n",
    "\n",
    "print('숫자는 : {}, 이름은 : {}'.format(num, name))\n",
    "print('숫자는 : %d, 이름은 : %s'% (num, name)) # %d = 숫자, %s = 문자열, %f = 부동소수점"
   ]
  },
  {
   "cell_type": "markdown",
   "metadata": {},
   "source": [
    "#### 1.5 리스트 (List) - 순서가 있는 데이터의 집합, [ ] 형태"
   ]
  },
  {
   "cell_type": "code",
   "execution_count": 5,
   "metadata": {},
   "outputs": [
    {
     "name": "stdout",
     "output_type": "stream",
     "text": [
      "[1, 2, 3]\n",
      "['hellow', 1, [1, 2]]\n"
     ]
    }
   ],
   "source": [
    "print([1, 2, 3])\n",
    "print(['hellow', 1, [1, 2]]) # 다양한 type의 데이터가 하나의 리스트에 저장 가능"
   ]
  },
  {
   "cell_type": "code",
   "execution_count": 6,
   "metadata": {},
   "outputs": [
    {
     "name": "stdout",
     "output_type": "stream",
     "text": [
      "['a', 'b', 'c', 'd']\n",
      "a\n",
      "['a', 'b']\n"
     ]
    }
   ],
   "source": [
    "ls = ['a', 'b', 'c']\n",
    "\n",
    "# list append\n",
    "ls.append('d')\n",
    "print(ls)\n",
    "\n",
    "# list indexint\n",
    "print(ls[0])\n",
    "print(ls[0:2])"
   ]
  },
  {
   "cell_type": "markdown",
   "metadata": {},
   "source": [
    "#### 1.6 딕셔너리 (Dictionary) - {key : value} 값으로 구성"
   ]
  },
  {
   "cell_type": "code",
   "execution_count": 7,
   "metadata": {},
   "outputs": [
    {
     "name": "stdout",
     "output_type": "stream",
     "text": [
      "item1\n",
      "item2\n"
     ]
    }
   ],
   "source": [
    "dic = {'key1' : 'item1', 'key2' : 'item2'}\n",
    "\n",
    "print(dic['key1'])\n",
    "print(dic['key2'])"
   ]
  },
  {
   "cell_type": "markdown",
   "metadata": {},
   "source": [
    "#### 1.7 논리 (Booleans) - True / False"
   ]
  },
  {
   "cell_type": "code",
   "execution_count": 8,
   "metadata": {},
   "outputs": [
    {
     "name": "stdout",
     "output_type": "stream",
     "text": [
      "True\n",
      "True\n"
     ]
    }
   ],
   "source": [
    "# 컴퓨터는 0,1로 구성\n",
    "print(1 == True) # 1과 True이 같나?\n",
    "print(0 == False) # 0과 False가 같나?"
   ]
  },
  {
   "cell_type": "markdown",
   "metadata": {},
   "source": [
    "#### 1.8 튜플 (Tuple) - 리스트와 동일, 변경은 불가능"
   ]
  },
  {
   "cell_type": "code",
   "execution_count": 9,
   "metadata": {},
   "outputs": [
    {
     "data": {
      "text/plain": [
       "1"
      ]
     },
     "execution_count": 9,
     "metadata": {},
     "output_type": "execute_result"
    }
   ],
   "source": [
    "t = (1, 2, 3)\n",
    "t[0]"
   ]
  },
  {
   "cell_type": "raw",
   "metadata": {},
   "source": [
    "t[0] = 'NEW' # Tuple은 변경이 불가능"
   ]
  },
  {
   "cell_type": "markdown",
   "metadata": {},
   "source": [
    "#### 1.9 집합 (Set) - 중복을 제거, { } 사용 "
   ]
  },
  {
   "cell_type": "code",
   "execution_count": 10,
   "metadata": {},
   "outputs": [
    {
     "name": "stdout",
     "output_type": "stream",
     "text": [
      "{1, 2, 3}\n",
      "{1, 2, 3}\n",
      "{1, 2, 3}\n"
     ]
    }
   ],
   "source": [
    "print({1, 2, 3})\n",
    "print({1, 2, 3, 1, 2, 3, 1, 2, 3, 1, 2, 3})\n",
    "print(set([1, 2, 3, 1, 2, 3, 1, 2, 3, 1, 2, 3])) # set을 이용해 list를 set으로 변환"
   ]
  },
  {
   "cell_type": "markdown",
   "metadata": {},
   "source": [
    "---"
   ]
  },
  {
   "cell_type": "markdown",
   "metadata": {},
   "source": [
    "### 2. 비교 연산자 (Comparison Operators)"
   ]
  },
  {
   "cell_type": "code",
   "execution_count": 11,
   "metadata": {},
   "outputs": [
    {
     "name": "stdout",
     "output_type": "stream",
     "text": [
      "False\n",
      "True\n",
      "True\n",
      "True\n",
      "True\n",
      "False\n"
     ]
    }
   ],
   "source": [
    "print(1 > 2)\n",
    "print(1 < 2)\n",
    "print(1 >= 1)\n",
    "print(1 <= 4)\n",
    "print(1 == 1)\n",
    "print('hi' == 'bye')"
   ]
  },
  {
   "cell_type": "markdown",
   "metadata": {},
   "source": [
    "---"
   ]
  },
  {
   "cell_type": "markdown",
   "metadata": {},
   "source": [
    "### 3. 논리 연산자 (Logic Operators)"
   ]
  },
  {
   "cell_type": "code",
   "execution_count": 12,
   "metadata": {},
   "outputs": [
    {
     "name": "stdout",
     "output_type": "stream",
     "text": [
      "False\n",
      "True\n",
      "True\n"
     ]
    }
   ],
   "source": [
    "print((1 > 2) and (2 < 3)) # 둘 다 맞는지\n",
    "print((1 > 2) or (2 < 3)) # 둘 중 하나라도 맞는지\n",
    "print((1 == 2) or (2 == 3) or (4 == 4)) # 셋 중 하나라도 맞는지"
   ]
  },
  {
   "cell_type": "markdown",
   "metadata": {},
   "source": [
    "---"
   ]
  },
  {
   "cell_type": "markdown",
   "metadata": {},
   "source": [
    "### 4. if, elif, else 문"
   ]
  },
  {
   "cell_type": "code",
   "execution_count": 13,
   "metadata": {},
   "outputs": [
    {
     "name": "stdout",
     "output_type": "stream",
     "text": [
      "맞습니다!\n"
     ]
    }
   ],
   "source": [
    "if 1<2:\n",
    "    print('맞습니다!') # True면 적용"
   ]
  },
  {
   "cell_type": "code",
   "execution_count": 14,
   "metadata": {
    "scrolled": true
   },
   "outputs": [
    {
     "name": "stdout",
     "output_type": "stream",
     "text": [
      "틀립니다..\n"
     ]
    }
   ],
   "source": [
    "if 1 > 2:\n",
    "    print('맞습니다!') # True면 적용\n",
    "else:\n",
    "    print('틀립니다..') # False면 적용"
   ]
  },
  {
   "cell_type": "code",
   "execution_count": 15,
   "metadata": {},
   "outputs": [
    {
     "name": "stdout",
     "output_type": "stream",
     "text": [
      "같습니다!\n"
     ]
    }
   ],
   "source": [
    "if 1 == 2:\n",
    "    print('같습니다!')\n",
    "elif 3 == 3:\n",
    "    print('같습니다!')\n",
    "else:\n",
    "    print('모르겠습니다..')"
   ]
  },
  {
   "cell_type": "markdown",
   "metadata": {},
   "source": [
    "---"
   ]
  },
  {
   "cell_type": "markdown",
   "metadata": {},
   "source": [
    "### 5. 반복문"
   ]
  },
  {
   "cell_type": "markdown",
   "metadata": {},
   "source": [
    "#### 5.1 for 문"
   ]
  },
  {
   "cell_type": "code",
   "execution_count": 16,
   "metadata": {
    "scrolled": true
   },
   "outputs": [
    {
     "name": "stdout",
     "output_type": "stream",
     "text": [
      "1 입니다.\n",
      "2 입니다.\n",
      "3 입니다.\n",
      "4 입니다.\n",
      "5 입니다.\n"
     ]
    }
   ],
   "source": [
    "ls = [1, 2, 3, 4, 5]\n",
    "\n",
    "for item in ls: # ls의 데이터를 하나씩 item에 넣어줌\n",
    "    print(item, '입니다.')"
   ]
  },
  {
   "cell_type": "markdown",
   "metadata": {},
   "source": [
    "#### 5.2 while 문"
   ]
  },
  {
   "cell_type": "code",
   "execution_count": 17,
   "metadata": {},
   "outputs": [
    {
     "name": "stdout",
     "output_type": "stream",
     "text": [
      "i is: 0\n",
      "i is: 1\n",
      "i is: 2\n",
      "i is: 3\n",
      "i is: 4\n"
     ]
    }
   ],
   "source": [
    "i = 0\n",
    "while i < 5:\n",
    "    print('i is: {}'.format(i))\n",
    "    i = i+1"
   ]
  },
  {
   "cell_type": "markdown",
   "metadata": {},
   "source": [
    "---"
   ]
  },
  {
   "cell_type": "markdown",
   "metadata": {},
   "source": [
    "### 6. Range( )"
   ]
  },
  {
   "cell_type": "code",
   "execution_count": 18,
   "metadata": {},
   "outputs": [
    {
     "data": {
      "text/plain": [
       "range(0, 5)"
      ]
     },
     "execution_count": 18,
     "metadata": {},
     "output_type": "execute_result"
    }
   ],
   "source": [
    "range(5)"
   ]
  },
  {
   "cell_type": "code",
   "execution_count": 19,
   "metadata": {},
   "outputs": [
    {
     "name": "stdout",
     "output_type": "stream",
     "text": [
      "0\n",
      "1\n",
      "2\n",
      "3\n",
      "4\n"
     ]
    }
   ],
   "source": [
    "for i in range(5):\n",
    "    print(i)"
   ]
  },
  {
   "cell_type": "code",
   "execution_count": 20,
   "metadata": {},
   "outputs": [
    {
     "data": {
      "text/plain": [
       "[0, 1, 2, 3, 4]"
      ]
     },
     "execution_count": 20,
     "metadata": {},
     "output_type": "execute_result"
    }
   ],
   "source": [
    "list(range(5))"
   ]
  },
  {
   "cell_type": "markdown",
   "metadata": {},
   "source": [
    "---"
   ]
  },
  {
   "cell_type": "markdown",
   "metadata": {},
   "source": [
    "### 7. List 사용"
   ]
  },
  {
   "cell_type": "code",
   "execution_count": 21,
   "metadata": {},
   "outputs": [
    {
     "name": "stdout",
     "output_type": "stream",
     "text": [
      "[1, 4, 9, 16]\n"
     ]
    }
   ],
   "source": [
    "x = [1, 2, 3, 4]\n",
    "\n",
    "y = []\n",
    "for i in x:\n",
    "    y.append(i**2)\n",
    "    \n",
    "print(y)"
   ]
  },
  {
   "cell_type": "code",
   "execution_count": 22,
   "metadata": {
    "scrolled": true
   },
   "outputs": [
    {
     "data": {
      "text/plain": [
       "[1, 4, 9, 16]"
      ]
     },
     "execution_count": 22,
     "metadata": {},
     "output_type": "execute_result"
    }
   ],
   "source": [
    "# [만들 데이터 + for 문]\n",
    "[i**2 for i in x]"
   ]
  },
  {
   "cell_type": "markdown",
   "metadata": {},
   "source": [
    "---"
   ]
  },
  {
   "cell_type": "markdown",
   "metadata": {},
   "source": [
    "### 8. Functions"
   ]
  },
  {
   "cell_type": "code",
   "execution_count": 23,
   "metadata": {},
   "outputs": [],
   "source": [
    "def my_func(param1 = 'defult'):\n",
    "    '''\n",
    "    함수에 대한 설명을 넣는 곳\n",
    "    '''\n",
    "    print(param1)"
   ]
  },
  {
   "cell_type": "code",
   "execution_count": 24,
   "metadata": {},
   "outputs": [
    {
     "data": {
      "text/plain": [
       "<function __main__.my_func(param1='defult')>"
      ]
     },
     "execution_count": 24,
     "metadata": {},
     "output_type": "execute_result"
    }
   ],
   "source": [
    "my_func # 함수의 위치, 주소"
   ]
  },
  {
   "cell_type": "code",
   "execution_count": 25,
   "metadata": {
    "scrolled": true
   },
   "outputs": [
    {
     "name": "stdout",
     "output_type": "stream",
     "text": [
      "defult\n"
     ]
    }
   ],
   "source": [
    "my_func() # 함수 실행, 아무런 parameter를 안주면 default값 실행"
   ]
  },
  {
   "cell_type": "code",
   "execution_count": 26,
   "metadata": {},
   "outputs": [
    {
     "name": "stdout",
     "output_type": "stream",
     "text": [
      "새로운 파라미터\n"
     ]
    }
   ],
   "source": [
    "my_func(param1 = '새로운 파라미터')"
   ]
  },
  {
   "cell_type": "code",
   "execution_count": 27,
   "metadata": {},
   "outputs": [],
   "source": [
    "def square(x):\n",
    "    return x ** 2"
   ]
  },
  {
   "cell_type": "code",
   "execution_count": 28,
   "metadata": {},
   "outputs": [
    {
     "data": {
      "text/plain": [
       "4"
      ]
     },
     "execution_count": 28,
     "metadata": {},
     "output_type": "execute_result"
    }
   ],
   "source": [
    "y = square(2)\n",
    "y"
   ]
  },
  {
   "cell_type": "markdown",
   "metadata": {},
   "source": [
    "---"
   ]
  },
  {
   "cell_type": "markdown",
   "metadata": {},
   "source": [
    "### 9. Methods - Class안에 있는 함수를 의미"
   ]
  },
  {
   "cell_type": "code",
   "execution_count": 29,
   "metadata": {},
   "outputs": [
    {
     "name": "stdout",
     "output_type": "stream",
     "text": [
      "hello my name is sam\n",
      "HELLO MY NAME IS SAM\n",
      "['Hello', 'my', 'name', 'is', 'SAM']\n"
     ]
    }
   ],
   "source": [
    "st1 = 'Hello my name is SAM'\n",
    "# 문자열이라는 클래스에 lower, upper, split이라는 method를 실행\n",
    "print(st1.lower()) # 소문자 (st1이라는 문자열에 속해있는 lower라는 메소드를 실행해라)\n",
    "print(st1.upper()) # 대문자\n",
    "print(st1.split())"
   ]
  },
  {
   "cell_type": "code",
   "execution_count": 30,
   "metadata": {},
   "outputs": [
    {
     "name": "stdout",
     "output_type": "stream",
     "text": [
      "['Go sports! ', 'Sports']\n",
      "Sports\n"
     ]
    }
   ],
   "source": [
    "st2 = 'Go sports! #Sports'\n",
    "print(st2.split('#')) # #을 기준으로 나누기\n",
    "print(st2.split('#')[1])"
   ]
  },
  {
   "cell_type": "code",
   "execution_count": 31,
   "metadata": {},
   "outputs": [
    {
     "name": "stdout",
     "output_type": "stream",
     "text": [
      "dict_keys(['key1', 'key2'])\n",
      "dict_items([('key1', 'item1'), ('key2', 'item2')])\n"
     ]
    }
   ],
   "source": [
    "print(dic.keys())\n",
    "print(dic.items())"
   ]
  },
  {
   "cell_type": "code",
   "execution_count": 32,
   "metadata": {},
   "outputs": [
    {
     "name": "stdout",
     "output_type": "stream",
     "text": [
      "3\n",
      "[1, 2]\n"
     ]
    }
   ],
   "source": [
    "ls = [1, 2, 3]\n",
    "print(ls.pop()) # 제일 마지막에 있는 것을 반환하고 ls에서 빼버림\n",
    "print(ls)"
   ]
  },
  {
   "cell_type": "markdown",
   "metadata": {},
   "source": [
    "---"
   ]
  },
  {
   "cell_type": "markdown",
   "metadata": {},
   "source": [
    "### 10. Class = Data + Fucntion (프로그램에 있는 또 다른 프로그램)"
   ]
  },
  {
   "cell_type": "markdown",
   "metadata": {},
   "source": [
    "#### 10.1 변수 범위"
   ]
  },
  {
   "cell_type": "code",
   "execution_count": 33,
   "metadata": {},
   "outputs": [
    {
     "name": "stdout",
     "output_type": "stream",
     "text": [
      "1\n"
     ]
    }
   ],
   "source": [
    "class A:\n",
    "    \n",
    "    z = 1\n",
    "    \n",
    "    def __init__(self):\n",
    "        self.x = 10\n",
    "        \n",
    "    def f1(self, y):\n",
    "        return self.x + y\n",
    "    \n",
    "print(A.z)"
   ]
  },
  {
   "cell_type": "code",
   "execution_count": 34,
   "metadata": {},
   "outputs": [
    {
     "name": "stdout",
     "output_type": "stream",
     "text": [
      "1\n",
      "10\n",
      "30\n"
     ]
    }
   ],
   "source": [
    "a = A()\n",
    "print(a.z)\n",
    "print(a.x)\n",
    "print(a.f1(20))"
   ]
  },
  {
   "cell_type": "code",
   "execution_count": 35,
   "metadata": {},
   "outputs": [
    {
     "name": "stdout",
     "output_type": "stream",
     "text": [
      "1\n",
      "30\n"
     ]
    }
   ],
   "source": [
    "a.z = a.z * 2\n",
    "print(A.z)\n",
    "print(a.f1(20))"
   ]
  },
  {
   "cell_type": "code",
   "execution_count": 36,
   "metadata": {},
   "outputs": [
    {
     "name": "stdout",
     "output_type": "stream",
     "text": [
      "10\n",
      "2\n"
     ]
    }
   ],
   "source": [
    "A.z = 10\n",
    "print(A.z)\n",
    "print(a.z)"
   ]
  },
  {
   "cell_type": "markdown",
   "metadata": {},
   "source": [
    "#### 10.2 클래스 상속"
   ]
  },
  {
   "cell_type": "code",
   "execution_count": 37,
   "metadata": {},
   "outputs": [
    {
     "name": "stdout",
     "output_type": "stream",
     "text": [
      "10\n",
      "30\n"
     ]
    }
   ],
   "source": [
    "class A:\n",
    "    \n",
    "    def __init__(self):\n",
    "        self.x = 10\n",
    "        \n",
    "class B(A): # A에 있는 속성을 다 가져오기\n",
    "    \n",
    "    def f1(self, y):\n",
    "        return self.x + y\n",
    "    \n",
    "b = B()\n",
    "print(b.x)\n",
    "print(b.f1(20))\n",
    "        "
   ]
  }
 ],
 "metadata": {
  "kernelspec": {
   "display_name": "Python 3",
   "language": "python",
   "name": "python3"
  },
  "language_info": {
   "codemirror_mode": {
    "name": "ipython",
    "version": 3
   },
   "file_extension": ".py",
   "mimetype": "text/x-python",
   "name": "python",
   "nbconvert_exporter": "python",
   "pygments_lexer": "ipython3",
   "version": "3.6.1"
  }
 },
 "nbformat": 4,
 "nbformat_minor": 2
}
